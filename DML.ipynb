{
 "cells": [
  {
   "attachments": {},
   "cell_type": "markdown",
   "metadata": {},
   "source": [
    "As the name suggests , DML or data manupulation language , it helps us to modify or alter the data. The main DML commands in mysql are as below -\n",
    "\n",
    "    -   SELECT\n",
    "    -   INSERT\n",
    "    -   UPDATE\n",
    "    -   DELETE"
   ]
  },
  {
   "attachments": {},
   "cell_type": "markdown",
   "metadata": {},
   "source": [
    "We have already talked about SELECT command , so let's now talk about INSERT syntax first here."
   ]
  },
  {
   "cell_type": "markdown",
   "metadata": {},
   "source": []
  }
 ],
 "metadata": {
  "language_info": {
   "name": "python"
  },
  "orig_nbformat": 4
 },
 "nbformat": 4,
 "nbformat_minor": 2
}
