{
 "cells": [
  {
   "attachments": {},
   "cell_type": "markdown",
   "metadata": {},
   "source": [
    "As the name suggests , DML or data manupulation language , it helps us to modify or alter the data. The main DML commands in mysql are as below -\n",
    "\n",
    "    -   SELECT\n",
    "    -   INSERT\n",
    "    -   UPDATE\n",
    "    -   DELETE"
   ]
  },
  {
   "cell_type": "markdown",
   "metadata": {},
   "source": []
  }
 ],
 "metadata": {
  "language_info": {
   "name": "python"
  },
  "orig_nbformat": 4
 },
 "nbformat": 4,
 "nbformat_minor": 2
}
