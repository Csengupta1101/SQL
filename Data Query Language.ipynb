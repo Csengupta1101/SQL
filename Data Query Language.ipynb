{
 "cells": [
  {
   "attachments": {},
   "cell_type": "markdown",
   "metadata": {},
   "source": [
    "As the name suggests , this type of queries are for querying into the data. In all likelihood , the very first layer in our query is generally the DQL or data query language. Or in other words it is used to retireve the information from the table."
   ]
  },
  {
   "cell_type": "markdown",
   "metadata": {},
   "source": []
  }
 ],
 "metadata": {
  "language_info": {
   "name": "python"
  },
  "orig_nbformat": 4
 },
 "nbformat": 4,
 "nbformat_minor": 2
}
