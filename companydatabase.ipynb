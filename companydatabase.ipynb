{
 "cells": [
  {
   "cell_type": "code",
   "execution_count": 15,
   "metadata": {},
   "outputs": [],
   "source": [
    "import os\n",
    "import pandas as pd\n",
    "import numpy as np\n",
    "import matplotlib.pyplot as plt\n",
    "import seaborn as sns\n",
    "import mysql.connector\n",
    "%matplotlib inline"
   ]
  },
  {
   "cell_type": "code",
   "execution_count": 16,
   "metadata": {},
   "outputs": [],
   "source": [
    "os.environ['db_user'] = 'root'\n",
    "os.environ['db_pass'] = 'PinkFloyd@1988'"
   ]
  },
  {
   "cell_type": "code",
   "execution_count": 17,
   "metadata": {},
   "outputs": [],
   "source": [
    "db_user = os.getenv('db_user')\n",
    "db_password = os.getenv('db_pass')"
   ]
  },
  {
   "cell_type": "code",
   "execution_count": 18,
   "metadata": {},
   "outputs": [
    {
     "name": "stdout",
     "output_type": "stream",
     "text": [
      "root\n",
      "PinkFloyd@1988\n"
     ]
    }
   ],
   "source": [
    "print(db_user)\n",
    "print(db_password)"
   ]
  },
  {
   "cell_type": "code",
   "execution_count": 19,
   "metadata": {},
   "outputs": [],
   "source": [
    "#building the connection\n",
    "connection = mysql.connector.connect(host = 'localhost',\n",
    "user = db_user,\n",
    "passwd = db_password,\n",
    "db = 'companydatabase')"
   ]
  },
  {
   "cell_type": "code",
   "execution_count": 20,
   "metadata": {},
   "outputs": [
    {
     "data": {
      "text/plain": [
       "<mysql.connector.connection.MySQLConnection at 0x1c6faccafb0>"
      ]
     },
     "execution_count": 20,
     "metadata": {},
     "output_type": "execute_result"
    }
   ],
   "source": [
    "connection"
   ]
  },
  {
   "cell_type": "code",
   "execution_count": 21,
   "metadata": {},
   "outputs": [
    {
     "name": "stderr",
     "output_type": "stream",
     "text": [
      "C:\\Users\\sengu\\AppData\\Local\\Temp\\ipykernel_18452\\3260996746.py:2: UserWarning: pandas only supports SQLAlchemy connectable (engine/connection) or database string URI or sqlite3 DBAPI2 connection. Other DBAPI2 objects are not tested. Please consider using SQLAlchemy.\n",
      "  db_tables = pd.read_sql_query('SHOW TABLES FROM companydatabase',connection)\n"
     ]
    },
    {
     "data": {
      "text/html": [
       "<div>\n",
       "<style scoped>\n",
       "    .dataframe tbody tr th:only-of-type {\n",
       "        vertical-align: middle;\n",
       "    }\n",
       "\n",
       "    .dataframe tbody tr th {\n",
       "        vertical-align: top;\n",
       "    }\n",
       "\n",
       "    .dataframe thead th {\n",
       "        text-align: right;\n",
       "    }\n",
       "</style>\n",
       "<table border=\"1\" class=\"dataframe\">\n",
       "  <thead>\n",
       "    <tr style=\"text-align: right;\">\n",
       "      <th></th>\n",
       "      <th>Tables_in_companydatabase</th>\n",
       "    </tr>\n",
       "  </thead>\n",
       "  <tbody>\n",
       "    <tr>\n",
       "      <th>0</th>\n",
       "      <td>branch</td>\n",
       "    </tr>\n",
       "    <tr>\n",
       "      <th>1</th>\n",
       "      <td>branch_supplier</td>\n",
       "    </tr>\n",
       "    <tr>\n",
       "      <th>2</th>\n",
       "      <td>client</td>\n",
       "    </tr>\n",
       "    <tr>\n",
       "      <th>3</th>\n",
       "      <td>employee</td>\n",
       "    </tr>\n",
       "    <tr>\n",
       "      <th>4</th>\n",
       "      <td>works_with</td>\n",
       "    </tr>\n",
       "  </tbody>\n",
       "</table>\n",
       "</div>"
      ],
      "text/plain": [
       "  Tables_in_companydatabase\n",
       "0                    branch\n",
       "1           branch_supplier\n",
       "2                    client\n",
       "3                  employee\n",
       "4                works_with"
      ]
     },
     "execution_count": 21,
     "metadata": {},
     "output_type": "execute_result"
    }
   ],
   "source": [
    "#let's now run some sql queries using pandas functionality\n",
    "db_tables = pd.read_sql_query('SHOW TABLES FROM companydatabase',connection)\n",
    "db_tables\n",
    " \n"
   ]
  },
  {
   "cell_type": "code",
   "execution_count": 22,
   "metadata": {},
   "outputs": [],
   "source": [
    " #lets find out details of all tables\n",
    " tables = db_tables['Tables_in_companydatabase']"
   ]
  },
  {
   "cell_type": "code",
   "execution_count": 23,
   "metadata": {},
   "outputs": [
    {
     "name": "stdout",
     "output_type": "stream",
     "text": [
      "branch\n",
      "            Field            Type Null  Key Default Extra\n",
      "0       branch_id          b'int'   NO  PRI    None      \n",
      "1     branch_name  b'varchar(40)'  YES         None      \n",
      "2          mgr_id          b'int'  YES  MUL    None      \n",
      "3  mgr_start_date         b'date'  YES         None       \n",
      "\n",
      "branch_supplier\n",
      "           Field            Type Null  Key Default Extra\n",
      "0      branch_id          b'int'   NO  PRI    None      \n",
      "1  supplier_name  b'varchar(40)'   NO  PRI    None      \n",
      "2    supply_type  b'varchar(40)'  YES         None       \n",
      "\n",
      "client\n",
      "         Field            Type Null  Key Default Extra\n",
      "0    client_id          b'int'   NO  PRI    None      \n",
      "1  client_name  b'varchar(40)'  YES         None      \n",
      "2    branch_id          b'int'  YES  MUL    None       \n",
      "\n",
      "employee\n",
      "        Field            Type Null  Key Default Extra\n",
      "0      emp_id          b'int'   NO  PRI    None      \n",
      "1  first_name  b'varchar(40)'  YES         None      \n",
      "2   last_name  b'varchar(40)'  YES         None      \n",
      "3   birth_day         b'date'  YES         None      \n",
      "4         sex   b'varchar(1)'  YES         None      \n",
      "5      salary          b'int'  YES         None      \n",
      "6    super_id          b'int'  YES  MUL    None      \n",
      "7   branch_id          b'int'  YES  MUL    None       \n",
      "\n",
      "works_with\n",
      "         Field    Type Null  Key Default Extra\n",
      "0       emp_id  b'int'   NO  PRI    None      \n",
      "1    client_id  b'int'   NO  PRI    None      \n",
      "2  total_sales  b'int'  YES         None       \n",
      "\n"
     ]
    },
    {
     "name": "stderr",
     "output_type": "stream",
     "text": [
      "C:\\Users\\sengu\\AppData\\Local\\Temp\\ipykernel_18452\\3467833702.py:3: UserWarning: pandas only supports SQLAlchemy connectable (engine/connection) or database string URI or sqlite3 DBAPI2 connection. Other DBAPI2 objects are not tested. Please consider using SQLAlchemy.\n",
      "  output = pd.read_sql_query('DESCRIBE {}'.format(i),connection)\n",
      "C:\\Users\\sengu\\AppData\\Local\\Temp\\ipykernel_18452\\3467833702.py:3: UserWarning: pandas only supports SQLAlchemy connectable (engine/connection) or database string URI or sqlite3 DBAPI2 connection. Other DBAPI2 objects are not tested. Please consider using SQLAlchemy.\n",
      "  output = pd.read_sql_query('DESCRIBE {}'.format(i),connection)\n",
      "C:\\Users\\sengu\\AppData\\Local\\Temp\\ipykernel_18452\\3467833702.py:3: UserWarning: pandas only supports SQLAlchemy connectable (engine/connection) or database string URI or sqlite3 DBAPI2 connection. Other DBAPI2 objects are not tested. Please consider using SQLAlchemy.\n",
      "  output = pd.read_sql_query('DESCRIBE {}'.format(i),connection)\n",
      "C:\\Users\\sengu\\AppData\\Local\\Temp\\ipykernel_18452\\3467833702.py:3: UserWarning: pandas only supports SQLAlchemy connectable (engine/connection) or database string URI or sqlite3 DBAPI2 connection. Other DBAPI2 objects are not tested. Please consider using SQLAlchemy.\n",
      "  output = pd.read_sql_query('DESCRIBE {}'.format(i),connection)\n",
      "C:\\Users\\sengu\\AppData\\Local\\Temp\\ipykernel_18452\\3467833702.py:3: UserWarning: pandas only supports SQLAlchemy connectable (engine/connection) or database string URI or sqlite3 DBAPI2 connection. Other DBAPI2 objects are not tested. Please consider using SQLAlchemy.\n",
      "  output = pd.read_sql_query('DESCRIBE {}'.format(i),connection)\n"
     ]
    }
   ],
   "source": [
    "for i in tables:\n",
    "    '''The output variable here will simply run a describe query in all of the tables in the database'''\n",
    "    output = pd.read_sql_query('DESCRIBE {}'.format(i),connection)\n",
    "    print(i)\n",
    "    print(output,'\\n')"
   ]
  },
  {
   "cell_type": "code",
   "execution_count": 24,
   "metadata": {},
   "outputs": [
    {
     "data": {
      "text/html": [
       "<div>\n",
       "<style scoped>\n",
       "    .dataframe tbody tr th:only-of-type {\n",
       "        vertical-align: middle;\n",
       "    }\n",
       "\n",
       "    .dataframe tbody tr th {\n",
       "        vertical-align: top;\n",
       "    }\n",
       "\n",
       "    .dataframe thead th {\n",
       "        text-align: right;\n",
       "    }\n",
       "</style>\n",
       "<table border=\"1\" class=\"dataframe\">\n",
       "  <thead>\n",
       "    <tr style=\"text-align: right;\">\n",
       "      <th></th>\n",
       "      <th>Tables_in_companydatabase</th>\n",
       "    </tr>\n",
       "  </thead>\n",
       "  <tbody>\n",
       "    <tr>\n",
       "      <th>0</th>\n",
       "      <td>branch</td>\n",
       "    </tr>\n",
       "    <tr>\n",
       "      <th>1</th>\n",
       "      <td>branch_supplier</td>\n",
       "    </tr>\n",
       "    <tr>\n",
       "      <th>2</th>\n",
       "      <td>client</td>\n",
       "    </tr>\n",
       "    <tr>\n",
       "      <th>3</th>\n",
       "      <td>employee</td>\n",
       "    </tr>\n",
       "    <tr>\n",
       "      <th>4</th>\n",
       "      <td>works_with</td>\n",
       "    </tr>\n",
       "  </tbody>\n",
       "</table>\n",
       "</div>"
      ],
      "text/plain": [
       "  Tables_in_companydatabase\n",
       "0                    branch\n",
       "1           branch_supplier\n",
       "2                    client\n",
       "3                  employee\n",
       "4                works_with"
      ]
     },
     "execution_count": 24,
     "metadata": {},
     "output_type": "execute_result"
    }
   ],
   "source": [
    "db_tables"
   ]
  },
  {
   "cell_type": "code",
   "execution_count": 25,
   "metadata": {},
   "outputs": [
    {
     "name": "stderr",
     "output_type": "stream",
     "text": [
      "C:\\Users\\sengu\\AppData\\Local\\Temp\\ipykernel_18452\\810306580.py:1: UserWarning: pandas only supports SQLAlchemy connectable (engine/connection) or database string URI or sqlite3 DBAPI2 connection. Other DBAPI2 objects are not tested. Please consider using SQLAlchemy.\n",
      "  branch = pd.read_sql_query('SELECT * FROM companydatabase.branch',connection)\n"
     ]
    }
   ],
   "source": [
    "branch = pd.read_sql_query('SELECT * FROM companydatabase.branch',connection)"
   ]
  },
  {
   "cell_type": "code",
   "execution_count": 26,
   "metadata": {},
   "outputs": [
    {
     "data": {
      "text/html": [
       "<div>\n",
       "<style scoped>\n",
       "    .dataframe tbody tr th:only-of-type {\n",
       "        vertical-align: middle;\n",
       "    }\n",
       "\n",
       "    .dataframe tbody tr th {\n",
       "        vertical-align: top;\n",
       "    }\n",
       "\n",
       "    .dataframe thead th {\n",
       "        text-align: right;\n",
       "    }\n",
       "</style>\n",
       "<table border=\"1\" class=\"dataframe\">\n",
       "  <thead>\n",
       "    <tr style=\"text-align: right;\">\n",
       "      <th></th>\n",
       "      <th>branch_id</th>\n",
       "      <th>branch_name</th>\n",
       "      <th>mgr_id</th>\n",
       "      <th>mgr_start_date</th>\n",
       "    </tr>\n",
       "  </thead>\n",
       "  <tbody>\n",
       "    <tr>\n",
       "      <th>0</th>\n",
       "      <td>1</td>\n",
       "      <td>Corporate</td>\n",
       "      <td>100</td>\n",
       "      <td>2006-02-09</td>\n",
       "    </tr>\n",
       "    <tr>\n",
       "      <th>1</th>\n",
       "      <td>2</td>\n",
       "      <td>Scranton</td>\n",
       "      <td>102</td>\n",
       "      <td>1992-04-06</td>\n",
       "    </tr>\n",
       "    <tr>\n",
       "      <th>2</th>\n",
       "      <td>3</td>\n",
       "      <td>Stamford</td>\n",
       "      <td>106</td>\n",
       "      <td>1998-02-13</td>\n",
       "    </tr>\n",
       "  </tbody>\n",
       "</table>\n",
       "</div>"
      ],
      "text/plain": [
       "   branch_id branch_name  mgr_id mgr_start_date\n",
       "0          1   Corporate     100     2006-02-09\n",
       "1          2    Scranton     102     1992-04-06\n",
       "2          3    Stamford     106     1998-02-13"
      ]
     },
     "execution_count": 26,
     "metadata": {},
     "output_type": "execute_result"
    }
   ],
   "source": [
    "branch"
   ]
  },
  {
   "cell_type": "code",
   "execution_count": 27,
   "metadata": {},
   "outputs": [
    {
     "name": "stderr",
     "output_type": "stream",
     "text": [
      "C:\\Users\\sengu\\AppData\\Local\\Temp\\ipykernel_18452\\1055700210.py:1: UserWarning: pandas only supports SQLAlchemy connectable (engine/connection) or database string URI or sqlite3 DBAPI2 connection. Other DBAPI2 objects are not tested. Please consider using SQLAlchemy.\n",
      "  employees = pd.read_sql_query('SELECT * FROM companydatabase.employee',connection)\n"
     ]
    },
    {
     "data": {
      "text/html": [
       "<div>\n",
       "<style scoped>\n",
       "    .dataframe tbody tr th:only-of-type {\n",
       "        vertical-align: middle;\n",
       "    }\n",
       "\n",
       "    .dataframe tbody tr th {\n",
       "        vertical-align: top;\n",
       "    }\n",
       "\n",
       "    .dataframe thead th {\n",
       "        text-align: right;\n",
       "    }\n",
       "</style>\n",
       "<table border=\"1\" class=\"dataframe\">\n",
       "  <thead>\n",
       "    <tr style=\"text-align: right;\">\n",
       "      <th></th>\n",
       "      <th>emp_id</th>\n",
       "      <th>first_name</th>\n",
       "      <th>last_name</th>\n",
       "      <th>birth_day</th>\n",
       "      <th>sex</th>\n",
       "      <th>salary</th>\n",
       "      <th>super_id</th>\n",
       "      <th>branch_id</th>\n",
       "    </tr>\n",
       "  </thead>\n",
       "  <tbody>\n",
       "    <tr>\n",
       "      <th>0</th>\n",
       "      <td>100</td>\n",
       "      <td>David</td>\n",
       "      <td>Wallace</td>\n",
       "      <td>1967-11-17</td>\n",
       "      <td>M</td>\n",
       "      <td>250000</td>\n",
       "      <td>NaN</td>\n",
       "      <td>1</td>\n",
       "    </tr>\n",
       "    <tr>\n",
       "      <th>1</th>\n",
       "      <td>101</td>\n",
       "      <td>Jan</td>\n",
       "      <td>Levinson</td>\n",
       "      <td>1961-05-11</td>\n",
       "      <td>F</td>\n",
       "      <td>110000</td>\n",
       "      <td>100.0</td>\n",
       "      <td>1</td>\n",
       "    </tr>\n",
       "    <tr>\n",
       "      <th>2</th>\n",
       "      <td>102</td>\n",
       "      <td>Michael</td>\n",
       "      <td>Scott</td>\n",
       "      <td>1964-03-15</td>\n",
       "      <td>M</td>\n",
       "      <td>75000</td>\n",
       "      <td>100.0</td>\n",
       "      <td>2</td>\n",
       "    </tr>\n",
       "    <tr>\n",
       "      <th>3</th>\n",
       "      <td>103</td>\n",
       "      <td>Angela</td>\n",
       "      <td>Martin</td>\n",
       "      <td>1971-06-25</td>\n",
       "      <td>F</td>\n",
       "      <td>63000</td>\n",
       "      <td>102.0</td>\n",
       "      <td>2</td>\n",
       "    </tr>\n",
       "    <tr>\n",
       "      <th>4</th>\n",
       "      <td>104</td>\n",
       "      <td>Kelly</td>\n",
       "      <td>Kapoor</td>\n",
       "      <td>1980-02-05</td>\n",
       "      <td>F</td>\n",
       "      <td>55000</td>\n",
       "      <td>102.0</td>\n",
       "      <td>2</td>\n",
       "    </tr>\n",
       "    <tr>\n",
       "      <th>5</th>\n",
       "      <td>105</td>\n",
       "      <td>Stanley</td>\n",
       "      <td>Hudson</td>\n",
       "      <td>1958-02-19</td>\n",
       "      <td>M</td>\n",
       "      <td>69000</td>\n",
       "      <td>102.0</td>\n",
       "      <td>2</td>\n",
       "    </tr>\n",
       "    <tr>\n",
       "      <th>6</th>\n",
       "      <td>106</td>\n",
       "      <td>Josh</td>\n",
       "      <td>Porter</td>\n",
       "      <td>1969-09-05</td>\n",
       "      <td>M</td>\n",
       "      <td>78000</td>\n",
       "      <td>100.0</td>\n",
       "      <td>3</td>\n",
       "    </tr>\n",
       "    <tr>\n",
       "      <th>7</th>\n",
       "      <td>107</td>\n",
       "      <td>Andy</td>\n",
       "      <td>Bernard</td>\n",
       "      <td>1973-07-22</td>\n",
       "      <td>M</td>\n",
       "      <td>65000</td>\n",
       "      <td>106.0</td>\n",
       "      <td>3</td>\n",
       "    </tr>\n",
       "    <tr>\n",
       "      <th>8</th>\n",
       "      <td>108</td>\n",
       "      <td>Jim</td>\n",
       "      <td>Halpert</td>\n",
       "      <td>1978-10-01</td>\n",
       "      <td>M</td>\n",
       "      <td>71000</td>\n",
       "      <td>106.0</td>\n",
       "      <td>3</td>\n",
       "    </tr>\n",
       "  </tbody>\n",
       "</table>\n",
       "</div>"
      ],
      "text/plain": [
       "   emp_id first_name last_name   birth_day sex  salary  super_id  branch_id\n",
       "0     100      David   Wallace  1967-11-17   M  250000       NaN          1\n",
       "1     101        Jan  Levinson  1961-05-11   F  110000     100.0          1\n",
       "2     102    Michael     Scott  1964-03-15   M   75000     100.0          2\n",
       "3     103     Angela    Martin  1971-06-25   F   63000     102.0          2\n",
       "4     104      Kelly    Kapoor  1980-02-05   F   55000     102.0          2\n",
       "5     105    Stanley    Hudson  1958-02-19   M   69000     102.0          2\n",
       "6     106       Josh    Porter  1969-09-05   M   78000     100.0          3\n",
       "7     107       Andy   Bernard  1973-07-22   M   65000     106.0          3\n",
       "8     108        Jim   Halpert  1978-10-01   M   71000     106.0          3"
      ]
     },
     "execution_count": 27,
     "metadata": {},
     "output_type": "execute_result"
    }
   ],
   "source": [
    "employees = pd.read_sql_query('SELECT * FROM companydatabase.employee',connection)\n",
    "employees"
   ]
  },
  {
   "cell_type": "code",
   "execution_count": 29,
   "metadata": {},
   "outputs": [
    {
     "name": "stderr",
     "output_type": "stream",
     "text": [
      "C:\\Users\\sengu\\AppData\\Local\\Temp\\ipykernel_18452\\1998017949.py:1: UserWarning: pandas only supports SQLAlchemy connectable (engine/connection) or database string URI or sqlite3 DBAPI2 connection. Other DBAPI2 objects are not tested. Please consider using SQLAlchemy.\n",
      "  male_emp = pd.read_sql_query('SELECT * FROM companydatabase.employee WHERE sex = \"M\"',connection)\n"
     ]
    },
    {
     "data": {
      "text/html": [
       "<div>\n",
       "<style scoped>\n",
       "    .dataframe tbody tr th:only-of-type {\n",
       "        vertical-align: middle;\n",
       "    }\n",
       "\n",
       "    .dataframe tbody tr th {\n",
       "        vertical-align: top;\n",
       "    }\n",
       "\n",
       "    .dataframe thead th {\n",
       "        text-align: right;\n",
       "    }\n",
       "</style>\n",
       "<table border=\"1\" class=\"dataframe\">\n",
       "  <thead>\n",
       "    <tr style=\"text-align: right;\">\n",
       "      <th></th>\n",
       "      <th>emp_id</th>\n",
       "      <th>first_name</th>\n",
       "      <th>last_name</th>\n",
       "      <th>birth_day</th>\n",
       "      <th>sex</th>\n",
       "      <th>salary</th>\n",
       "      <th>super_id</th>\n",
       "      <th>branch_id</th>\n",
       "    </tr>\n",
       "  </thead>\n",
       "  <tbody>\n",
       "    <tr>\n",
       "      <th>0</th>\n",
       "      <td>100</td>\n",
       "      <td>David</td>\n",
       "      <td>Wallace</td>\n",
       "      <td>1967-11-17</td>\n",
       "      <td>M</td>\n",
       "      <td>250000</td>\n",
       "      <td>NaN</td>\n",
       "      <td>1</td>\n",
       "    </tr>\n",
       "    <tr>\n",
       "      <th>1</th>\n",
       "      <td>102</td>\n",
       "      <td>Michael</td>\n",
       "      <td>Scott</td>\n",
       "      <td>1964-03-15</td>\n",
       "      <td>M</td>\n",
       "      <td>75000</td>\n",
       "      <td>100.0</td>\n",
       "      <td>2</td>\n",
       "    </tr>\n",
       "    <tr>\n",
       "      <th>2</th>\n",
       "      <td>105</td>\n",
       "      <td>Stanley</td>\n",
       "      <td>Hudson</td>\n",
       "      <td>1958-02-19</td>\n",
       "      <td>M</td>\n",
       "      <td>69000</td>\n",
       "      <td>102.0</td>\n",
       "      <td>2</td>\n",
       "    </tr>\n",
       "    <tr>\n",
       "      <th>3</th>\n",
       "      <td>106</td>\n",
       "      <td>Josh</td>\n",
       "      <td>Porter</td>\n",
       "      <td>1969-09-05</td>\n",
       "      <td>M</td>\n",
       "      <td>78000</td>\n",
       "      <td>100.0</td>\n",
       "      <td>3</td>\n",
       "    </tr>\n",
       "    <tr>\n",
       "      <th>4</th>\n",
       "      <td>107</td>\n",
       "      <td>Andy</td>\n",
       "      <td>Bernard</td>\n",
       "      <td>1973-07-22</td>\n",
       "      <td>M</td>\n",
       "      <td>65000</td>\n",
       "      <td>106.0</td>\n",
       "      <td>3</td>\n",
       "    </tr>\n",
       "    <tr>\n",
       "      <th>5</th>\n",
       "      <td>108</td>\n",
       "      <td>Jim</td>\n",
       "      <td>Halpert</td>\n",
       "      <td>1978-10-01</td>\n",
       "      <td>M</td>\n",
       "      <td>71000</td>\n",
       "      <td>106.0</td>\n",
       "      <td>3</td>\n",
       "    </tr>\n",
       "  </tbody>\n",
       "</table>\n",
       "</div>"
      ],
      "text/plain": [
       "   emp_id first_name last_name   birth_day sex  salary  super_id  branch_id\n",
       "0     100      David   Wallace  1967-11-17   M  250000       NaN          1\n",
       "1     102    Michael     Scott  1964-03-15   M   75000     100.0          2\n",
       "2     105    Stanley    Hudson  1958-02-19   M   69000     102.0          2\n",
       "3     106       Josh    Porter  1969-09-05   M   78000     100.0          3\n",
       "4     107       Andy   Bernard  1973-07-22   M   65000     106.0          3\n",
       "5     108        Jim   Halpert  1978-10-01   M   71000     106.0          3"
      ]
     },
     "execution_count": 29,
     "metadata": {},
     "output_type": "execute_result"
    }
   ],
   "source": [
    "male_emp = pd.read_sql_query('SELECT * FROM companydatabase.employee WHERE sex = \"M\"',connection)\n",
    "male_emp"
   ]
  },
  {
   "cell_type": "code",
   "execution_count": 30,
   "metadata": {},
   "outputs": [
    {
     "name": "stderr",
     "output_type": "stream",
     "text": [
      "C:\\Users\\sengu\\AppData\\Local\\Temp\\ipykernel_18452\\4206982851.py:1: UserWarning: pandas only supports SQLAlchemy connectable (engine/connection) or database string URI or sqlite3 DBAPI2 connection. Other DBAPI2 objects are not tested. Please consider using SQLAlchemy.\n",
      "  emp_name_branch = pd.read_sql_query('SELECT first_name,branch_name FROM employee JOIN branch on employee.branch_id = branch.branch_id',connection)\n"
     ]
    }
   ],
   "source": [
    "emp_name_branch = pd.read_sql_query('SELECT first_name,branch_name FROM employee JOIN branch on employee.branch_id = branch.branch_id',connection)"
   ]
  },
  {
   "cell_type": "code",
   "execution_count": 31,
   "metadata": {},
   "outputs": [
    {
     "data": {
      "text/html": [
       "<div>\n",
       "<style scoped>\n",
       "    .dataframe tbody tr th:only-of-type {\n",
       "        vertical-align: middle;\n",
       "    }\n",
       "\n",
       "    .dataframe tbody tr th {\n",
       "        vertical-align: top;\n",
       "    }\n",
       "\n",
       "    .dataframe thead th {\n",
       "        text-align: right;\n",
       "    }\n",
       "</style>\n",
       "<table border=\"1\" class=\"dataframe\">\n",
       "  <thead>\n",
       "    <tr style=\"text-align: right;\">\n",
       "      <th></th>\n",
       "      <th>first_name</th>\n",
       "      <th>branch_name</th>\n",
       "    </tr>\n",
       "  </thead>\n",
       "  <tbody>\n",
       "    <tr>\n",
       "      <th>0</th>\n",
       "      <td>David</td>\n",
       "      <td>Corporate</td>\n",
       "    </tr>\n",
       "    <tr>\n",
       "      <th>1</th>\n",
       "      <td>Jan</td>\n",
       "      <td>Corporate</td>\n",
       "    </tr>\n",
       "    <tr>\n",
       "      <th>2</th>\n",
       "      <td>Michael</td>\n",
       "      <td>Scranton</td>\n",
       "    </tr>\n",
       "    <tr>\n",
       "      <th>3</th>\n",
       "      <td>Angela</td>\n",
       "      <td>Scranton</td>\n",
       "    </tr>\n",
       "    <tr>\n",
       "      <th>4</th>\n",
       "      <td>Kelly</td>\n",
       "      <td>Scranton</td>\n",
       "    </tr>\n",
       "    <tr>\n",
       "      <th>5</th>\n",
       "      <td>Stanley</td>\n",
       "      <td>Scranton</td>\n",
       "    </tr>\n",
       "    <tr>\n",
       "      <th>6</th>\n",
       "      <td>Josh</td>\n",
       "      <td>Stamford</td>\n",
       "    </tr>\n",
       "    <tr>\n",
       "      <th>7</th>\n",
       "      <td>Andy</td>\n",
       "      <td>Stamford</td>\n",
       "    </tr>\n",
       "    <tr>\n",
       "      <th>8</th>\n",
       "      <td>Jim</td>\n",
       "      <td>Stamford</td>\n",
       "    </tr>\n",
       "  </tbody>\n",
       "</table>\n",
       "</div>"
      ],
      "text/plain": [
       "  first_name branch_name\n",
       "0      David   Corporate\n",
       "1        Jan   Corporate\n",
       "2    Michael    Scranton\n",
       "3     Angela    Scranton\n",
       "4      Kelly    Scranton\n",
       "5    Stanley    Scranton\n",
       "6       Josh    Stamford\n",
       "7       Andy    Stamford\n",
       "8        Jim    Stamford"
      ]
     },
     "execution_count": 31,
     "metadata": {},
     "output_type": "execute_result"
    }
   ],
   "source": [
    "emp_name_branch"
   ]
  },
  {
   "cell_type": "code",
   "execution_count": null,
   "metadata": {},
   "outputs": [],
   "source": []
  }
 ],
 "metadata": {
  "kernelspec": {
   "display_name": "github1",
   "language": "python",
   "name": "python3"
  },
  "language_info": {
   "codemirror_mode": {
    "name": "ipython",
    "version": 3
   },
   "file_extension": ".py",
   "mimetype": "text/x-python",
   "name": "python",
   "nbconvert_exporter": "python",
   "pygments_lexer": "ipython3",
   "version": "3.10.8 | packaged by conda-forge | (main, Nov 24 2022, 14:07:00) [MSC v.1916 64 bit (AMD64)]"
  },
  "orig_nbformat": 4,
  "vscode": {
   "interpreter": {
    "hash": "e2f1f49a464b0261529b7f879af28a2fa50ede0bedb86dbf326bb328bc03475b"
   }
  }
 },
 "nbformat": 4,
 "nbformat_minor": 2
}
