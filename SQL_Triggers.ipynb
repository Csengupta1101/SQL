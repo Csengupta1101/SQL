{
 "cells": [
  {
   "attachments": {},
   "cell_type": "markdown",
   "metadata": {},
   "source": [
    "This notebook will contain all neccessary code and explanation for sql triggers"
   ]
  },
  {
   "attachments": {},
   "cell_type": "markdown",
   "metadata": {},
   "source": [
    "We first have to understand the use of an sql trigger. In real world data , it might happen that our data gets deleted by mistake from the main table. Suppose an entire row gets deleted from it. This creates a bigger problem as it directly affects the main table structure. To avoid such scenarios we keep a back up table. The use of this back up table is , whenever a data gets deleted from the main table , it automatically sends the deleted data into this back up table so that the data is not lost. \n",
    "\n",
    "And this process gets initiated with triggers. Whenever a data gets deleted , a trigger gets generated and the work of this trigger remains to push the deleted data into our back up table."
   ]
  },
  {
   "cell_type": "markdown",
   "metadata": {},
   "source": []
  }
 ],
 "metadata": {
  "language_info": {
   "name": "python"
  },
  "orig_nbformat": 4
 },
 "nbformat": 4,
 "nbformat_minor": 2
}
