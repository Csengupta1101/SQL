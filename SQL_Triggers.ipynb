{
 "cells": [
  {
   "attachments": {},
   "cell_type": "markdown",
   "metadata": {},
   "source": [
    "This notebook will contain all neccessary code and explanation for sql triggers"
   ]
  },
  {
   "attachments": {},
   "cell_type": "markdown",
   "metadata": {},
   "source": [
    "SQL trigger has three primary events , insert , update and delete , with the help of triggers , whenever we are trying to make any of the modification in our main table with insert/update/delete , based on our given specific condition the sql query runs and our data gets stored accordingly , as an example , we can set a trigger that states if any data gets deleted from main table then the deleted data will be stored into a backup table created by us , or let's say we have given a condition that during data insertion if the salary value is somehow inserted as negative number then insert 0 insetad of the negative numbers.\n",
    "\n",
    "    -   Trigger time frame - before/after\n",
    "    -   Trigger events - insert/update/delete\n",
    "    -   trigger order - follows/preceeds"
   ]
  },
  {
   "attachments": {},
   "cell_type": "markdown",
   "metadata": {},
   "source": [
    "Lets go ahead and create a main and a back up table first here.\n",
    "\n",
    "    -    use practisedb\n",
    "    -    show tables\n",
    "    -    create table main (id int ,salary int);\n",
    "    -    create table back_up (id int ,salary int);\n",
    "\n",
    "now let's add values in the main table \n",
    "\n",
    "    -   INSERT INTO main VALUES ('1','20000'),('2','10000'),\n",
    "        ('3','25000'),('4','15000');"
   ]
  },
  {
   "attachments": {},
   "cell_type": "markdown",
   "metadata": {},
   "source": [
    "##### Before Insert Trigger\n",
    "\n",
    "Lets first create a before insert trigger , our condition here will be that during data insertion if the salary value is somehow inserted as negative number then insert 0 insetad of the negative numbers."
   ]
  },
  {
   "attachments": {},
   "cell_type": "markdown",
   "metadata": {},
   "source": [
    "    -   create trigger salary_check \n",
    "        before insert on main \n",
    "        for each row \n",
    "        if new.salary < 0 then set new.salary = 0 ;\n",
    "        end if;"
   ]
  },
  {
   "attachments": {},
   "cell_type": "markdown",
   "metadata": {},
   "source": [
    "Now let's try to insert some data with negative values -\n",
    "\n",
    "    -   insert into main values (6,14000) , (7,-34566);"
   ]
  },
  {
   "attachments": {},
   "cell_type": "markdown",
   "metadata": {},
   "source": [
    "But now when we will check our table , we will see that the negative value got added as 0 only in the data.\n",
    "\n",
    "    -   SELECT * FROM practisedb.main;"
   ]
  },
  {
   "attachments": {},
   "cell_type": "markdown",
   "metadata": {},
   "source": [
    "##### After Insert Trigger\n",
    "\n",
    "Let's understand after insert trigger now. Suppose the data that's being inserted into the table contains null value for a specific column in it and we somehow require a value to be added in it. One way to do it is by just setting a not null constraint , but what if we don't do that. In such scenarios we will use an after insert trigger , with this trigger , everytime a null value gets inserted into that specified column a message will be generated into a separate table , let's call it messages where it will display that these records are null and values needs to be filled in. "
   ]
  },
  {
   "attachments": {},
   "cell_type": "markdown",
   "metadata": {},
   "source": [
    "    -   create table customers \n",
    "        (id int auto_increment primary key , \n",
    "\t\t    name varchar(40) not null , dob date);\n",
    "    -   create table message \n",
    "        (id int auto_increment ,\n",
    "\t\t\t\tmessageid int ,\n",
    "\t\t\t\tmessage varchar(400) not null ,\n",
    "        primary key(id,messageid));"
   ]
  },
  {
   "attachments": {},
   "cell_type": "markdown",
   "metadata": {},
   "source": [
    "Now let's go ahead and create our trigger\n",
    "\n",
    "-       Delimiter //\n",
    "        create trigger \n",
    "        check_null_dob\n",
    "        after insert\n",
    "        on customers for each row \n",
    "        begin \n",
    "        if new.dob is null then \n",
    "        insert into message (messageid,message)\n",
    "        values (new.id , concat('Hi ',new.name,' , please update your date of birth' ));\n",
    "        end if;\n",
    "        end //"
   ]
  },
  {
   "attachments": {},
   "cell_type": "markdown",
   "metadata": {},
   "source": [
    "Now let's add some data in the customers table as below -\n",
    "\n",
    "    -   INSERT INTO `practisedb`.`customers` (`id`, `name`, `dob`) VALUES ('1', 'joy', '1988-01-11');\n",
    "    -   INSERT INTO `practisedb`.`customers` (`id`, `name`, `dob`) VALUES ('2', 'harry', Null);\n"
   ]
  },
  {
   "attachments": {},
   "cell_type": "markdown",
   "metadata": {},
   "source": [
    "Now when we will check the message table , we will see that for the record where name is harry , a message is displayed requesting to update their DOB."
   ]
  },
  {
   "cell_type": "markdown",
   "metadata": {},
   "source": []
  }
 ],
 "metadata": {
  "language_info": {
   "name": "python"
  },
  "orig_nbformat": 4
 },
 "nbformat": 4,
 "nbformat_minor": 2
}
