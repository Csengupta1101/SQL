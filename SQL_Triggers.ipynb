{
 "cells": [
  {
   "attachments": {},
   "cell_type": "markdown",
   "metadata": {},
   "source": [
    "This notebook will contain all neccessary code and explanation for sql triggers"
   ]
  },
  {
   "attachments": {},
   "cell_type": "markdown",
   "metadata": {},
   "source": [
    "SQL trigger has three primary events , insert , update and delete , with the help of triggers , whenever we are trying to make any of the modification in our main table with insert/update/delete , based on our given specific condition the sql query runs and our data gets stored accordingly , as an example , we can set a trigger that states if any data gets deleted from main table then the deleted data will be stored into a backup table created by us , or let's say we have given a condition that during data insertion if the salary value is somehow inserted as negative number then insert 0 insetad of the negative numbers.\n",
    "\n",
    "    -   Trigger time frame - before/after\n",
    "    -   Trigger events - insert/update/delete\n",
    "    -   trigger order - follows/preceeds"
   ]
  },
  {
   "attachments": {},
   "cell_type": "markdown",
   "metadata": {},
   "source": [
    "Lets go ahead and create a main and a back up table first here.\n",
    "\n",
    "    -    use practisedb\n",
    "    -    show tables\n",
    "    -    create table main (id int ,salary int);\n",
    "    -    create table back_up (id int ,salary int);\n",
    "\n",
    "now let's add values in the main table \n",
    "\n",
    "    -   INSERT INTO main VALUES ('1','20000'),('2','10000'),\n",
    "        ('3','25000'),('4','15000');"
   ]
  },
  {
   "attachments": {},
   "cell_type": "markdown",
   "metadata": {},
   "source": [
    "##### Before Insert Trigger\n",
    "\n",
    "Lets first create a before insert trigger , our condition here will be that during data insertion if the salary value is somehow inserted as negative number then insert 0 insetad of the negative numbers."
   ]
  },
  {
   "attachments": {},
   "cell_type": "markdown",
   "metadata": {},
   "source": [
    "    -   Delimiter //\n",
    "        create trigger salary_check \n",
    "        before insert on main \n",
    "        for each row \n",
    "        begin\n",
    "        if new.salary < 0 then set new.salary = 0 ;\n",
    "        end if;\n",
    "        end //"
   ]
  },
  {
   "attachments": {},
   "cell_type": "markdown",
   "metadata": {},
   "source": [
    "Now let's try to insert some data with negative values -\n",
    "\n",
    "    -   insert into main values (6,14000) , (7,-34566);"
   ]
  },
  {
   "attachments": {},
   "cell_type": "markdown",
   "metadata": {},
   "source": [
    "But now when we will check our table , we will see that the negative value got added as 0 only in the data.\n",
    "\n",
    "    -   SELECT * FROM practisedb.main;"
   ]
  },
  {
   "attachments": {},
   "cell_type": "markdown",
   "metadata": {},
   "source": [
    "##### After Insert Trigger\n",
    "\n",
    "Let's understand after insert trigger now. Suppose the data that's being inserted into the table contains null value for a specific column in it and we somehow require a value to be added in it. One way to do it is by just setting a not null constraint , but what if we don't do that. In such scenarios we will use an after insert trigger , with this trigger , everytime a null value gets inserted into that specified column a message will be generated into a separate table , let's call it messages where it will display that these records are null and values needs to be filled in. "
   ]
  },
  {
   "attachments": {},
   "cell_type": "markdown",
   "metadata": {},
   "source": [
    "    -   create table customers \n",
    "        (id int auto_increment primary key , \n",
    "\t\t    name varchar(40) not null , dob date);\n",
    "    -   create table message \n",
    "        (id int auto_increment ,\n",
    "\t\t\t\tmessageid int ,\n",
    "\t\t\t\tmessage varchar(400) not null ,\n",
    "        primary key(id,messageid));"
   ]
  },
  {
   "attachments": {},
   "cell_type": "markdown",
   "metadata": {},
   "source": [
    "Now let's go ahead and create our trigger\n",
    "\n",
    "-       Delimiter //\n",
    "        create trigger \n",
    "        check_null_dob\n",
    "        after insert\n",
    "        on customers for each row \n",
    "        begin \n",
    "        if new.dob is null then \n",
    "        insert into message (messageid,message)\n",
    "        values (new.id , concat('Hi ',new.name,' , please update your date of birth' ));\n",
    "        end if;\n",
    "        end //"
   ]
  },
  {
   "attachments": {},
   "cell_type": "markdown",
   "metadata": {},
   "source": [
    "Now let's add some data in the customers table as below -\n",
    "\n",
    "    -   INSERT INTO `practisedb`.`customers` (`id`, `name`, `dob`) VALUES ('1', 'joy', '1988-01-11');\n",
    "    -   INSERT INTO `practisedb`.`customers` (`id`, `name`, `dob`) VALUES ('2', 'harry', Null);\n"
   ]
  },
  {
   "attachments": {},
   "cell_type": "markdown",
   "metadata": {},
   "source": [
    "Now when we will check the message table , we will see that for the record where name is harry , a message is displayed requesting to update their DOB."
   ]
  },
  {
   "attachments": {},
   "cell_type": "markdown",
   "metadata": {},
   "source": [
    "##### Before Update Trigger\n",
    "\n",
    "This is simply updating a range of records with the help of a trigger based on  given condition. Let's create an employee table where we will perform mass salary updation with 'before update trigger'.\n"
   ]
  },
  {
   "attachments": {},
   "cell_type": "markdown",
   "metadata": {},
   "source": [
    "    -   create table employees (id int primary key , name varchar(40) not null , salary int not null);\n",
    "    -   insert into employees values (1,'harry',15000),(2,'barry',10000),(3,'larry',19000),(4,'carry',18000),(5,'parry',35000),(6,'ronald',25000);"
   ]
  },
  {
   "attachments": {},
   "cell_type": "markdown",
   "metadata": {},
   "source": [
    "And the trigger code will be like as ,\n",
    "\n",
    "    -   delimiter //\n",
    "        create trigger salary_update\n",
    "        before update\n",
    "        on employees\n",
    "        for each row\n",
    "        begin\n",
    "        if new.salary = 10000 then set new.salary = 15000 ;\n",
    "        elseif new.salary < 10000 then set new.salary = 5000 ;\n",
    "        end if;\n",
    "        end //"
   ]
  },
  {
   "attachments": {},
   "cell_type": "markdown",
   "metadata": {},
   "source": [
    "now if we use the update syntax as below -\n",
    "\n",
    "    -   update employees set salary = 8000;"
   ]
  },
  {
   "attachments": {},
   "cell_type": "markdown",
   "metadata": {},
   "source": [
    "We will get all salary output as 5000 as mentioned in the trigger."
   ]
  },
  {
   "attachments": {},
   "cell_type": "markdown",
   "metadata": {},
   "source": [
    "##### After Update Trigger\n",
    "\n",
    "In here after every update the old values that were updated into new ones , goes into a back up table and stays stored there so that old updated values can be recalled."
   ]
  },
  {
   "attachments": {},
   "cell_type": "markdown",
   "metadata": {},
   "source": [
    "Let's create a back up table for the after update trigger execution \n",
    "\n",
    "    -   create table update_back_up (id int , salary int);"
   ]
  },
  {
   "attachments": {},
   "cell_type": "markdown",
   "metadata": {},
   "source": [
    "Now let's create the trigger \n",
    "\n",
    "    -   Delimiter //\n",
    "        create trigger trg25\n",
    "        after update\n",
    "        on main \n",
    "        for each row\n",
    "        begin\n",
    "        insert into update_back_up values(old.id , old.salary);\n",
    "        end //"
   ]
  },
  {
   "attachments": {},
   "cell_type": "markdown",
   "metadata": {},
   "source": [
    "Now let's perform an update on the main table as below -\n",
    "\n",
    "    -   update main set salary = 21345 where id =1;"
   ]
  },
  {
   "attachments": {},
   "cell_type": "markdown",
   "metadata": {},
   "source": [
    "Now if we check the back up table we have just created , we would be able to see the old data of id=1 that we just updated is safely stored in the back up table."
   ]
  },
  {
   "attachments": {},
   "cell_type": "markdown",
   "metadata": {},
   "source": [
    "##### Before Delete\n",
    "\n",
    "In here we will be able to restrict our data to be deleted using a error/warning message before the delete happens. On the below trigger emp_data table is used , and sqlstate 45000 means unhandled user exception."
   ]
  },
  {
   "attachments": {},
   "cell_type": "markdown",
   "metadata": {},
   "source": [
    "    -   Delimiter //\n",
    "        create trigger trg10\n",
    "        before delete\n",
    "        on emp_data \n",
    "        for each row\n",
    "        begin\n",
    "        signal sqlstate '45000' set message_text = \"not allowed\";\n",
    "        end //"
   ]
  },
  {
   "attachments": {},
   "cell_type": "markdown",
   "metadata": {},
   "source": [
    "Now deleteing a record to see the error message we receive\n",
    "\n",
    "    -   delete from emp_data where id = 1;\n",
    "\n"
   ]
  },
  {
   "attachments": {},
   "cell_type": "markdown",
   "metadata": {},
   "source": [
    "We will see the error message popping up as described above."
   ]
  },
  {
   "attachments": {},
   "cell_type": "markdown",
   "metadata": {},
   "source": [
    "##### After Delete\n",
    "\n",
    "In After Delete Trigger the record gets deleted from the main table but at the same time it also gets stored in a back up table. let's create a main and a back up table with same columns and add some values in the main table first. "
   ]
  },
  {
   "attachments": {},
   "cell_type": "markdown",
   "metadata": {},
   "source": [
    "    -   create table main (id int , salary int);\n",
    "        create table back_up (id int , salary int);\n",
    "        insert into main values (1,12000),(2,25000),(3,26000),(4,19000);"
   ]
  },
  {
   "attachments": {},
   "cell_type": "markdown",
   "metadata": {},
   "source": [
    "Now let's create the trigger \n"
   ]
  },
  {
   "attachments": {},
   "cell_type": "markdown",
   "metadata": {},
   "source": [
    "    -   Delimiter //\n",
    "        create trigger trg18\n",
    "        after delete\n",
    "        on main \n",
    "        for each row\n",
    "        begin\n",
    "        insert into back_up values (old.id,old.salary);\n",
    "        end //"
   ]
  },
  {
   "attachments": {},
   "cell_type": "markdown",
   "metadata": {},
   "source": [
    "Now let's delete a data from main table    \n",
    "\n",
    "    -   delete from main where id = 3;"
   ]
  },
  {
   "attachments": {},
   "cell_type": "markdown",
   "metadata": {},
   "source": [
    "If we check the back up table now , the data will reflect in there , the exact data , that's deleted."
   ]
  },
  {
   "attachments": {},
   "cell_type": "markdown",
   "metadata": {},
   "source": [
    "##### Showcase all the triggers\n",
    "\n",
    "    -   show triggers from practisedb;\n",
    "\n",
    "##### Delete trigger\n",
    "\n",
    "    -   drop trigger trg1 -( trigger name )\n",
    "\n"
   ]
  },
  {
   "cell_type": "markdown",
   "metadata": {},
   "source": []
  }
 ],
 "metadata": {
  "language_info": {
   "name": "python"
  },
  "orig_nbformat": 4
 },
 "nbformat": 4,
 "nbformat_minor": 2
}
