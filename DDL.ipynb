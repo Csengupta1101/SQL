{
 "cells": [
  {
   "attachments": {},
   "cell_type": "markdown",
   "metadata": {},
   "source": [
    "DDL here stands for data definition language , This helps to define the database , it's attributes , features etc etc. The general DDL commands are as below -\n",
    "\n",
    "    -   Create\n",
    "    -   Alter\n",
    "    -   Drop"
   ]
  },
  {
   "cell_type": "markdown",
   "metadata": {},
   "source": []
  }
 ],
 "metadata": {
  "language_info": {
   "name": "python"
  },
  "orig_nbformat": 4
 },
 "nbformat": 4,
 "nbformat_minor": 2
}
